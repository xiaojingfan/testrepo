{
    "cells": [
        {
            "cell_type": "markdown",
            "metadata": {},
            "source": "<center>\n    <img src=\"https://gitlab.com/ibm/skills-network/courses/placeholder101/-/raw/master/labs/module%201/images/IDSNlogo.png\"  width=\"300\" alt=\"cognitiveclass.ai logo\"  />\n</center>\n\n<h1 align=center><font size = 5>Assignment: SQL Notebook for Peer Assignment</font></h1>\n\nEstimated time needed: **60** minutes.\n\n## Introduction\n\nUsing this Python notebook you will:\n\n1.  Understand the Spacex DataSet\n2.  Load the dataset  into the corresponding table in a Db2 database\n3.  Execute SQL queries to answer assignment questions\n"
        },
        {
            "cell_type": "markdown",
            "metadata": {},
            "source": "## Overview of the DataSet\n\nSpaceX has gained worldwide attention for a series of historic milestones.\n\nIt is the only private company ever to return a spacecraft from low-earth orbit, which it first accomplished in December 2010.\nSpaceX advertises Falcon 9 rocket launches on its website with a cost of 62 million dollars wheras other providers cost upward of 165 million dollars each, much of the savings is because Space X can reuse the first stage.\n\nTherefore if we can determine if the first stage will land, we can determine the cost of a launch.\n\nThis information can be used if an alternate company wants to bid against SpaceX for a rocket launch.\n\nThis dataset includes a record for each payload carried during a SpaceX mission into outer space.\n"
        },
        {
            "cell_type": "markdown",
            "metadata": {},
            "source": "### Download the datasets\n\nThis assignment requires you to load the spacex dataset.\n\nIn many cases the dataset to be analyzed is available as a .CSV (comma separated values) file, perhaps on the internet. Click on the link below to download and save the dataset (.CSV file):\n\n<a href=\"https://cf-courses-data.s3.us.cloud-object-storage.appdomain.cloud/IBM-DS0321EN-SkillsNetwork/labs/module_2/data/Spacex.csv?utm_medium=Exinfluencer&utm_source=Exinfluencer&utm_content=000026UJ&utm_term=10006555&utm_id=NA-SkillsNetwork-Channel-SkillsNetworkCoursesIBMDS0321ENSkillsNetwork26802033-2021-01-01\" target=\"_blank\">Spacex DataSet</a>\n"
        },
        {
            "cell_type": "markdown",
            "metadata": {},
            "source": "### Store the dataset in database table\n\n**it is highly recommended to manually load the table using the database console LOAD tool in DB2**.\n\n<img src = \"https://cf-courses-data.s3.us.cloud-object-storage.appdomain.cloud/IBM-DS0321EN-SkillsNetwork/labs/module_2/images/spacexload.png\">\n\nNow open the Db2 console, open the LOAD tool, Select / Drag the .CSV file for the  dataset, Next create a New Table, and then follow the steps on-screen instructions to load the data. Name the new table as follows:\n\n**SPACEXDATASET**\n\n**Follow these steps while using old DB2 UI which is having Open Console Screen**\n\n**Note:While loading Spacex dataset, ensure that detect datatypes is disabled. Later click on the pencil icon(edit option).**\n\n1.  Change the Date Format by manually typing DD-MM-YYYY and timestamp format as DD-MM-YYYY HH\\:MM:SS\n\n2.  Change the PAYLOAD_MASS\\_\\_KG\\_  datatype  to INTEGER.\n\n<img src = \"https://cf-courses-data.s3.us.cloud-object-storage.appdomain.cloud/IBM-DS0321EN-SkillsNetwork/labs/module_2/images/spacexload2.png\">\n"
        },
        {
            "cell_type": "markdown",
            "metadata": {},
            "source": "**Changes to be considered when having DB2 instance with the new UI having Go to UI screen**\n\n*   Refer to this insruction in this <a href=\"https://cf-courses-data.s3.us.cloud-object-storage.appdomain.cloud/IBMDeveloperSkillsNetwork-DB0201EN-SkillsNetwork/labs/Labs_Coursera_V5/labs/Lab%20-%20Sign%20up%20for%20IBM%20Cloud%20-%20Create%20Db2%20service%20instance%20-%20Get%20started%20with%20the%20Db2%20console/instructional-labs.md.html?utm_medium=Exinfluencer&utm_source=Exinfluencer&utm_content=000026UJ&utm_term=10006555&utm_id=NA-SkillsNetwork-Channel-SkillsNetworkCoursesIBMDS0321ENSkillsNetwork26802033-2021-01-01\">link</a> for viewing  the new  Go to UI screen.\n\n*   Later click on **Data link(below SQL)**  in the Go to UI screen  and click on **Load Data** tab.\n\n*   Later browse for the downloaded spacex file.\n\n<img src=\"https://cf-courses-data.s3.us.cloud-object-storage.appdomain.cloud/IBM-DS0321EN-SkillsNetwork/labs/module_2/images/browsefile.png\" width=\"800\"/>\n\n*   Once done select the schema andload the file.\n\n <img src=\"https://cf-courses-data.s3.us.cloud-object-storage.appdomain.cloud/IBM-DS0321EN-SkillsNetwork/labs/module_2/images/spacexload3.png\" width=\"800\"/>\n"
        },
        {
            "cell_type": "code",
            "execution_count": 1,
            "metadata": {},
            "outputs": [
                {
                    "name": "stdout",
                    "output_type": "stream",
                    "text": "/opt/conda/envs/Python-3.7-OpenCE/lib/python3.7/site-packages/secretstorage/dhcrypto.py:16: CryptographyDeprecationWarning: int_from_bytes is deprecated, use int.from_bytes instead\n  from cryptography.utils import int_from_bytes\n/opt/conda/envs/Python-3.7-OpenCE/lib/python3.7/site-packages/secretstorage/util.py:25: CryptographyDeprecationWarning: int_from_bytes is deprecated, use int.from_bytes instead\n  from cryptography.utils import int_from_bytes\nCollecting sqlalchemy==1.3.9\n  Downloading SQLAlchemy-1.3.9.tar.gz (6.0 MB)\n\u001b[K     |\u2588\u2588\u2588\u2588\u2588\u2588\u2588\u2588\u2588\u2588\u2588\u2588\u2588\u2588\u2588\u2588\u2588\u2588\u2588\u2588\u2588\u2588\u2588\u2588\u2588\u2588\u2588\u2588\u2588\u2588\u2588\u2588| 6.0 MB 23.6 MB/s eta 0:00:01\n\u001b[?25hBuilding wheels for collected packages: sqlalchemy\n  Building wheel for sqlalchemy (setup.py) ... \u001b[?25ldone\n\u001b[?25h  Created wheel for sqlalchemy: filename=SQLAlchemy-1.3.9-cp37-cp37m-linux_x86_64.whl size=1207769 sha256=726f33cfca0dd232de52e5cb4dacbecf99c3958a4dedbff1c2de57654f4ca823\n  Stored in directory: /tmp/wsuser/.cache/pip/wheels/03/71/13/010faf12246f72dc76b4150e6e599d13a85b4435e06fb9e51f\nSuccessfully built sqlalchemy\nInstalling collected packages: sqlalchemy\n  Attempting uninstall: sqlalchemy\n    Found existing installation: SQLAlchemy 1.4.22\n    Uninstalling SQLAlchemy-1.4.22:\n      Successfully uninstalled SQLAlchemy-1.4.22\nSuccessfully installed sqlalchemy-1.3.9\n/opt/conda/envs/Python-3.7-OpenCE/lib/python3.7/site-packages/secretstorage/dhcrypto.py:16: CryptographyDeprecationWarning: int_from_bytes is deprecated, use int.from_bytes instead\n  from cryptography.utils import int_from_bytes\n/opt/conda/envs/Python-3.7-OpenCE/lib/python3.7/site-packages/secretstorage/util.py:25: CryptographyDeprecationWarning: int_from_bytes is deprecated, use int.from_bytes instead\n  from cryptography.utils import int_from_bytes\nRequirement already satisfied: ibm_db_sa in /opt/conda/envs/Python-3.7-OpenCE/lib/python3.7/site-packages (0.3.7)\nRequirement already satisfied: sqlalchemy>=0.7.3 in /opt/conda/envs/Python-3.7-OpenCE/lib/python3.7/site-packages (from ibm_db_sa) (1.3.9)\nRequirement already satisfied: ibm-db>=2.0.0 in /opt/conda/envs/Python-3.7-OpenCE/lib/python3.7/site-packages (from ibm_db_sa) (3.0.4)\n/opt/conda/envs/Python-3.7-OpenCE/lib/python3.7/site-packages/secretstorage/dhcrypto.py:16: CryptographyDeprecationWarning: int_from_bytes is deprecated, use int.from_bytes instead\n  from cryptography.utils import int_from_bytes\n/opt/conda/envs/Python-3.7-OpenCE/lib/python3.7/site-packages/secretstorage/util.py:25: CryptographyDeprecationWarning: int_from_bytes is deprecated, use int.from_bytes instead\n  from cryptography.utils import int_from_bytes\nCollecting ipython-sql\n  Downloading ipython_sql-0.4.0-py3-none-any.whl (19 kB)\nRequirement already satisfied: six in /opt/conda/envs/Python-3.7-OpenCE/lib/python3.7/site-packages (from ipython-sql) (1.15.0)\nCollecting sqlparse\n  Downloading sqlparse-0.4.2-py3-none-any.whl (42 kB)\n\u001b[K     |\u2588\u2588\u2588\u2588\u2588\u2588\u2588\u2588\u2588\u2588\u2588\u2588\u2588\u2588\u2588\u2588\u2588\u2588\u2588\u2588\u2588\u2588\u2588\u2588\u2588\u2588\u2588\u2588\u2588\u2588\u2588\u2588| 42 kB 1.7 MB/s  eta 0:00:01\n\u001b[?25hCollecting prettytable<1\n  Downloading prettytable-0.7.2.tar.bz2 (21 kB)\nRequirement already satisfied: sqlalchemy>=0.6.7 in /opt/conda/envs/Python-3.7-OpenCE/lib/python3.7/site-packages (from ipython-sql) (1.3.9)\nRequirement already satisfied: ipython-genutils>=0.1.0 in /opt/conda/envs/Python-3.7-OpenCE/lib/python3.7/site-packages (from ipython-sql) (0.2.0)\nRequirement already satisfied: ipython>=1.0 in /opt/conda/envs/Python-3.7-OpenCE/lib/python3.7/site-packages (from ipython-sql) (7.15.0)\nRequirement already satisfied: traitlets>=4.2 in /opt/conda/envs/Python-3.7-OpenCE/lib/python3.7/site-packages (from ipython>=1.0->ipython-sql) (4.3.3)\nRequirement already satisfied: pexpect; sys_platform != \"win32\" in /opt/conda/envs/Python-3.7-OpenCE/lib/python3.7/site-packages (from ipython>=1.0->ipython-sql) (4.8.0)\nRequirement already satisfied: jedi>=0.10 in /opt/conda/envs/Python-3.7-OpenCE/lib/python3.7/site-packages (from ipython>=1.0->ipython-sql) (0.17.1)\nRequirement already satisfied: pickleshare in /opt/conda/envs/Python-3.7-OpenCE/lib/python3.7/site-packages (from ipython>=1.0->ipython-sql) (0.7.5)\nRequirement already satisfied: pygments in /opt/conda/envs/Python-3.7-OpenCE/lib/python3.7/site-packages (from ipython>=1.0->ipython-sql) (2.6.1)\nRequirement already satisfied: prompt-toolkit!=3.0.0,!=3.0.1,<3.1.0,>=2.0.0 in /opt/conda/envs/Python-3.7-OpenCE/lib/python3.7/site-packages (from ipython>=1.0->ipython-sql) (3.0.5)\nRequirement already satisfied: decorator in /opt/conda/envs/Python-3.7-OpenCE/lib/python3.7/site-packages (from ipython>=1.0->ipython-sql) (4.4.2)\nRequirement already satisfied: setuptools>=18.5 in /opt/conda/envs/Python-3.7-OpenCE/lib/python3.7/site-packages (from ipython>=1.0->ipython-sql) (47.3.1.post20200622)\nRequirement already satisfied: backcall in /opt/conda/envs/Python-3.7-OpenCE/lib/python3.7/site-packages (from ipython>=1.0->ipython-sql) (0.2.0)\nRequirement already satisfied: ptyprocess>=0.5 in /opt/conda/envs/Python-3.7-OpenCE/lib/python3.7/site-packages (from pexpect; sys_platform != \"win32\"->ipython>=1.0->ipython-sql) (0.6.0)\nRequirement already satisfied: parso<0.8.0,>=0.7.0 in /opt/conda/envs/Python-3.7-OpenCE/lib/python3.7/site-packages (from jedi>=0.10->ipython>=1.0->ipython-sql) (0.7.0)\nRequirement already satisfied: wcwidth in /opt/conda/envs/Python-3.7-OpenCE/lib/python3.7/site-packages (from prompt-toolkit!=3.0.0,!=3.0.1,<3.1.0,>=2.0.0->ipython>=1.0->ipython-sql) (0.2.4)\nBuilding wheels for collected packages: prettytable\n  Building wheel for prettytable (setup.py) ... \u001b[?25ldone\n\u001b[?25h  Created wheel for prettytable: filename=prettytable-0.7.2-py3-none-any.whl size=13700 sha256=21113b72f36a468758a0b1974af045c1dc9453db110119e0a46b375bb0b87929\n  Stored in directory: /tmp/wsuser/.cache/pip/wheels/8c/76/0b/eb9eb3da7e2335e3577e3f96a0ae9f74f206e26457bd1a2bc8\nSuccessfully built prettytable\nInstalling collected packages: sqlparse, prettytable, ipython-sql\nSuccessfully installed ipython-sql-0.4.0 prettytable-0.7.2 sqlparse-0.4.2\n"
                }
            ],
            "source": "!pip install sqlalchemy==1.3.9\n!pip install ibm_db_sa\n!pip install ipython-sql"
        },
        {
            "cell_type": "markdown",
            "metadata": {},
            "source": "### Connect to the database\n\nLet us first load the SQL extension and establish a connection with the database\n"
        },
        {
            "cell_type": "code",
            "execution_count": 2,
            "metadata": {},
            "outputs": [],
            "source": "%load_ext sql"
        },
        {
            "cell_type": "markdown",
            "metadata": {},
            "source": "**DB2 magic in case of old UI service credentials.**\n\nIn the next cell enter your db2 connection string. Recall you created Service Credentials for your Db2 instance before. From the **uri** field of your Db2 service credentials copy everything after db2:// (except the double quote at the end) and paste it in the cell below after ibm_db_sa://\n\n<img src =\"https://cf-courses-data.s3.us.cloud-object-storage.appdomain.cloud/IBMDeveloperSkillsNetwork-DB0201EN-SkillsNetwork/labs/FinalModule_edX/images/URI.jpg\">\n\nin the following format\n\n**%sql ibm_db_sa://my-username:my-password\\@my-hostname:my-port/my-db-name**\n\n**DB2 magic in case of new UI service credentials.**\n\n<img src =\"https://cf-courses-data.s3.us.cloud-object-storage.appdomain.cloud/IBM-DS0321EN-SkillsNetwork/labs/module_2/images/servicecredentials.png\" width=600>  \n\n*   Use the following format.\n\n*   Add security=SSL at the end\n\n**%sql ibm_db_sa://my-username:my-password\\@my-hostname:my-port/my-db-name?security=SSL**\n"
        },
        {
            "cell_type": "code",
            "execution_count": 10,
            "metadata": {},
            "outputs": [],
            "source": "%sql ibm_db_sa://mbz73986:2IU5WpwEGlO3ebeV@54a2f15b-5c0f-46df-8954-7e38e612c2bd.c1ogj3sd0tgtu0lqde00.databases.appdomain.cloud:32733/BLUDB?security=SSL"
        },
        {
            "cell_type": "markdown",
            "metadata": {},
            "source": "## Tasks\n\nNow write and execute SQL queries to solve the assignment tasks.\n\n### Task 1\n\n##### Display the names of the unique launch sites  in the space mission\n"
        },
        {
            "cell_type": "code",
            "execution_count": 14,
            "metadata": {},
            "outputs": [
                {
                    "name": "stdout",
                    "output_type": "stream",
                    "text": " * ibm_db_sa://mbz73986:***@54a2f15b-5c0f-46df-8954-7e38e612c2bd.c1ogj3sd0tgtu0lqde00.databases.appdomain.cloud:32733/BLUDB\nDone.\n"
                },
                {
                    "data": {
                        "text/html": "<table>\n    <tr>\n        <th>launch_site</th>\n    </tr>\n    <tr>\n        <td>CCAFS LC-40</td>\n    </tr>\n    <tr>\n        <td>CCAFS SLC-40</td>\n    </tr>\n    <tr>\n        <td>KSC LC-39A</td>\n    </tr>\n    <tr>\n        <td>VAFB SLC-4E</td>\n    </tr>\n</table>",
                        "text/plain": "[('CCAFS LC-40',), ('CCAFS SLC-40',), ('KSC LC-39A',), ('VAFB SLC-4E',)]"
                    },
                    "execution_count": 14,
                    "metadata": {},
                    "output_type": "execute_result"
                }
            ],
            "source": "%sql SELECT distinct launch_site FROM SPACEXTBL"
        },
        {
            "cell_type": "markdown",
            "metadata": {},
            "source": "### Task 2\n\n##### Display 5 records where launch sites begin with the string 'KSC'\n"
        },
        {
            "cell_type": "code",
            "execution_count": 23,
            "metadata": {},
            "outputs": [
                {
                    "name": "stdout",
                    "output_type": "stream",
                    "text": " * ibm_db_sa://mbz73986:***@54a2f15b-5c0f-46df-8954-7e38e612c2bd.c1ogj3sd0tgtu0lqde00.databases.appdomain.cloud:32733/BLUDB\nDone.\n"
                },
                {
                    "data": {
                        "text/html": "<table>\n    <tr>\n        <th>DATE</th>\n        <th>time__utc_</th>\n        <th>booster_version</th>\n        <th>launch_site</th>\n        <th>payload</th>\n        <th>payload_mass__kg_</th>\n        <th>orbit</th>\n        <th>customer</th>\n        <th>mission_outcome</th>\n        <th>landing__outcome</th>\n    </tr>\n    <tr>\n        <td>2017-02-19</td>\n        <td>14:39:00</td>\n        <td>F9 FT B1031.1</td>\n        <td>KSC LC-39A</td>\n        <td>SpaceX CRS-10</td>\n        <td>2490</td>\n        <td>LEO (ISS)</td>\n        <td>NASA (CRS)</td>\n        <td>Success</td>\n        <td>Success (ground pad)</td>\n    </tr>\n    <tr>\n        <td>2017-03-16</td>\n        <td>06:00:00</td>\n        <td>F9 FT B1030</td>\n        <td>KSC LC-39A</td>\n        <td>EchoStar 23</td>\n        <td>5600</td>\n        <td>GTO</td>\n        <td>EchoStar</td>\n        <td>Success</td>\n        <td>No attempt</td>\n    </tr>\n    <tr>\n        <td>2017-03-30</td>\n        <td>22:27:00</td>\n        <td>F9 FT  B1021.2</td>\n        <td>KSC LC-39A</td>\n        <td>SES-10</td>\n        <td>5300</td>\n        <td>GTO</td>\n        <td>SES</td>\n        <td>Success</td>\n        <td>Success (drone ship)</td>\n    </tr>\n    <tr>\n        <td>2017-05-01</td>\n        <td>11:15:00</td>\n        <td>F9 FT B1032.1</td>\n        <td>KSC LC-39A</td>\n        <td>NROL-76</td>\n        <td>5300</td>\n        <td>LEO</td>\n        <td>NRO</td>\n        <td>Success</td>\n        <td>Success (ground pad)</td>\n    </tr>\n    <tr>\n        <td>2017-05-15</td>\n        <td>23:21:00</td>\n        <td>F9 FT B1034</td>\n        <td>KSC LC-39A</td>\n        <td>Inmarsat-5 F4</td>\n        <td>6070</td>\n        <td>GTO</td>\n        <td>Inmarsat</td>\n        <td>Success</td>\n        <td>No attempt</td>\n    </tr>\n    <tr>\n        <td>2017-06-03</td>\n        <td>21:07:00</td>\n        <td>F9 FT B1035.1</td>\n        <td>KSC LC-39A</td>\n        <td>SpaceX CRS-11</td>\n        <td>2708</td>\n        <td>LEO (ISS)</td>\n        <td>NASA (CRS)</td>\n        <td>Success</td>\n        <td>Success (ground pad)</td>\n    </tr>\n    <tr>\n        <td>2017-06-23</td>\n        <td>19:10:00</td>\n        <td>F9 FT  B1029.2</td>\n        <td>KSC LC-39A</td>\n        <td>BulgariaSat-1</td>\n        <td>3669</td>\n        <td>GTO</td>\n        <td>Bulsatcom</td>\n        <td>Success</td>\n        <td>Success (drone ship)</td>\n    </tr>\n    <tr>\n        <td>2017-07-05</td>\n        <td>23:38:00</td>\n        <td>F9 FT B1037</td>\n        <td>KSC LC-39A</td>\n        <td>Intelsat 35e</td>\n        <td>6761</td>\n        <td>GTO</td>\n        <td>Intelsat</td>\n        <td>Success</td>\n        <td>No attempt</td>\n    </tr>\n    <tr>\n        <td>2017-08-14</td>\n        <td>16:31:00</td>\n        <td>F9 B4 B1039.1</td>\n        <td>KSC LC-39A</td>\n        <td>SpaceX CRS-12</td>\n        <td>3310</td>\n        <td>LEO (ISS)</td>\n        <td>NASA (CRS)</td>\n        <td>Success</td>\n        <td>Success (ground pad)</td>\n    </tr>\n    <tr>\n        <td>2017-09-07</td>\n        <td>14:00:00</td>\n        <td>F9 B4 B1040.1</td>\n        <td>KSC LC-39A</td>\n        <td>Boeing X-37B OTV-5</td>\n        <td>4990</td>\n        <td>LEO</td>\n        <td>U.S. Air Force</td>\n        <td>Success</td>\n        <td>Success (ground pad)</td>\n    </tr>\n    <tr>\n        <td>2017-10-11</td>\n        <td>22:53:00</td>\n        <td>F9 FT  B1031.2</td>\n        <td>KSC LC-39A</td>\n        <td>SES-11 / EchoStar 105</td>\n        <td>5200</td>\n        <td>GTO</td>\n        <td>SES EchoStar</td>\n        <td>Success</td>\n        <td>Success (drone ship)</td>\n    </tr>\n    <tr>\n        <td>2017-10-30</td>\n        <td>19:34:00</td>\n        <td>F9 B4 B1042.1</td>\n        <td>KSC LC-39A</td>\n        <td>Koreasat 5A</td>\n        <td>3500</td>\n        <td>GTO</td>\n        <td>KT Corporation</td>\n        <td>Success</td>\n        <td>Success (drone ship)</td>\n    </tr>\n    <tr>\n        <td>2018-05-11</td>\n        <td>20:14:00</td>\n        <td>F9 B5  B1046.1</td>\n        <td>KSC LC-39A</td>\n        <td>Bangabandhu-1</td>\n        <td>3600</td>\n        <td>GTO</td>\n        <td>Thales-Alenia/BTRC</td>\n        <td>Success</td>\n        <td>Success (drone ship)</td>\n    </tr>\n    <tr>\n        <td>2018-11-15</td>\n        <td>20:46:00</td>\n        <td>F9 B5 B1047.2</td>\n        <td>KSC LC-39A</td>\n        <td>Es hail 2</td>\n        <td>5300</td>\n        <td>GTO</td>\n        <td>Es hailSat</td>\n        <td>Success</td>\n        <td>Success</td>\n    </tr>\n    <tr>\n        <td>2019-03-02</td>\n        <td>07:49:00</td>\n        <td>F9 B5B1051.1</td>\n        <td>KSC LC-39A</td>\n        <td>Crew Dragon Demo-1, SpaceX CRS-17 </td>\n        <td>12055</td>\n        <td>LEO (ISS)</td>\n        <td>NASA (CCD)</td>\n        <td>Success</td>\n        <td>Success</td>\n    </tr>\n    <tr>\n        <td>2020-01-19</td>\n        <td>15:30:00</td>\n        <td>F9 B5 B1046.4</td>\n        <td>KSC LC-39A</td>\n        <td>Crew Dragon in-flight abort test, Starlink 3 v1.0 </td>\n        <td>12050</td>\n        <td>Sub-orbital</td>\n        <td>NASA (CTS)</td>\n        <td>Success</td>\n        <td>No attempt</td>\n    </tr>\n    <tr>\n        <td>2020-03-18</td>\n        <td>12:16:00</td>\n        <td>F9 B5 B1048.5</td>\n        <td>KSC LC-39A</td>\n        <td>Starlink 5 v1.0, Starlink 6 v1.0 </td>\n        <td>15600</td>\n        <td>LEO</td>\n        <td>SpaceX</td>\n        <td>Success</td>\n        <td>Failure</td>\n    </tr>\n    <tr>\n        <td>2020-04-22</td>\n        <td>19:30:00</td>\n        <td>F9 B5 B1051.4</td>\n        <td>KSC LC-39A</td>\n        <td>Starlink 6 v1.0, Crew Dragon Demo-2 </td>\n        <td>15600</td>\n        <td>LEO</td>\n        <td>SpaceX</td>\n        <td>Success</td>\n        <td>Success</td>\n    </tr>\n    <tr>\n        <td>2020-05-30</td>\n        <td>19:22:00</td>\n        <td>F9 B5B1058.1</td>\n        <td>KSC LC-39A</td>\n        <td>Crew Dragon Demo-2, Starlink 7 v1.0 </td>\n        <td>12530</td>\n        <td>LEO (ISS)</td>\n        <td>NASA (CCDev)</td>\n        <td>Success</td>\n        <td>Success</td>\n    </tr>\n    <tr>\n        <td>2020-08-07</td>\n        <td>05:12:00</td>\n        <td>F9 B5 B1051.5</td>\n        <td>KSC LC-39A</td>\n        <td>Starlink 9 v1.0, SXRS-1, Starlink 10 v1.0 </td>\n        <td>14932</td>\n        <td>LEO</td>\n        <td>SpaceX, Spaceflight Industries (BlackSky), Planet Labs</td>\n        <td>Success</td>\n        <td>Success</td>\n    </tr>\n    <tr>\n        <td>2020-09-03</td>\n        <td>12:46:14</td>\n        <td>F9 B5 B1060.2</td>\n        <td>KSC LC-39A</td>\n        <td>Starlink 11 v1.0, Starlink 12 v1.0 </td>\n        <td>15600</td>\n        <td>LEO</td>\n        <td>SpaceX</td>\n        <td>Success</td>\n        <td>Success</td>\n    </tr>\n    <tr>\n        <td>2020-10-06</td>\n        <td>11:29:34</td>\n        <td>F9 B5 B1058.3</td>\n        <td>KSC LC-39A</td>\n        <td>Starlink 12 v1.0, Starlink 13 v1.0 </td>\n        <td>15600</td>\n        <td>LEO</td>\n        <td>SpaceX</td>\n        <td>Success</td>\n        <td>Success</td>\n    </tr>\n    <tr>\n        <td>2020-10-18</td>\n        <td>12:25:57</td>\n        <td>F9 B5 B1051.6</td>\n        <td>KSC LC-39A</td>\n        <td>Starlink 13 v1.0, Starlink 14 v1.0 </td>\n        <td>15600</td>\n        <td>LEO</td>\n        <td>SpaceX</td>\n        <td>Success</td>\n        <td>Success</td>\n    </tr>\n    <tr>\n        <td>2020-11-16</td>\n        <td>00:27:00</td>\n        <td>F9 B5B1061.1</td>\n        <td>KSC LC-39A</td>\n        <td>Crew-1, Sentinel-6 Michael Freilich </td>\n        <td>12500</td>\n        <td>LEO (ISS)</td>\n        <td>NASA (CCP)</td>\n        <td>Success</td>\n        <td>Success</td>\n    </tr>\n    <tr>\n        <td>2020-12-06</td>\n        <td>16:17:08</td>\n        <td>F9 B5 B1058.4</td>\n        <td>KSC LC-39A</td>\n        <td>SpaceX CRS-21</td>\n        <td>2972</td>\n        <td>LEO (ISS)</td>\n        <td>NASA (CRS)</td>\n        <td>Success</td>\n        <td>Success</td>\n    </tr>\n</table>",
                        "text/plain": "[(datetime.date(2017, 2, 19), datetime.time(14, 39), 'F9 FT B1031.1', 'KSC LC-39A', 'SpaceX CRS-10', 2490, 'LEO (ISS)', 'NASA (CRS)', 'Success', 'Success (ground pad)'),\n (datetime.date(2017, 3, 16), datetime.time(6, 0), 'F9 FT B1030', 'KSC LC-39A', 'EchoStar 23', 5600, 'GTO', 'EchoStar', 'Success', 'No attempt'),\n (datetime.date(2017, 3, 30), datetime.time(22, 27), 'F9 FT  B1021.2', 'KSC LC-39A', 'SES-10', 5300, 'GTO', 'SES', 'Success', 'Success (drone ship)'),\n (datetime.date(2017, 5, 1), datetime.time(11, 15), 'F9 FT B1032.1', 'KSC LC-39A', 'NROL-76', 5300, 'LEO', 'NRO', 'Success', 'Success (ground pad)'),\n (datetime.date(2017, 5, 15), datetime.time(23, 21), 'F9 FT B1034', 'KSC LC-39A', 'Inmarsat-5 F4', 6070, 'GTO', 'Inmarsat', 'Success', 'No attempt'),\n (datetime.date(2017, 6, 3), datetime.time(21, 7), 'F9 FT B1035.1', 'KSC LC-39A', 'SpaceX CRS-11', 2708, 'LEO (ISS)', 'NASA (CRS)', 'Success', 'Success (ground pad)'),\n (datetime.date(2017, 6, 23), datetime.time(19, 10), 'F9 FT  B1029.2', 'KSC LC-39A', 'BulgariaSat-1', 3669, 'GTO', 'Bulsatcom', 'Success', 'Success (drone ship)'),\n (datetime.date(2017, 7, 5), datetime.time(23, 38), 'F9 FT B1037', 'KSC LC-39A', 'Intelsat 35e', 6761, 'GTO', 'Intelsat', 'Success', 'No attempt'),\n (datetime.date(2017, 8, 14), datetime.time(16, 31), 'F9 B4 B1039.1', 'KSC LC-39A', 'SpaceX CRS-12', 3310, 'LEO (ISS)', 'NASA (CRS)', 'Success', 'Success (ground pad)'),\n (datetime.date(2017, 9, 7), datetime.time(14, 0), 'F9 B4 B1040.1', 'KSC LC-39A', 'Boeing X-37B OTV-5', 4990, 'LEO', 'U.S. Air Force', 'Success', 'Success (ground pad)'),\n (datetime.date(2017, 10, 11), datetime.time(22, 53), 'F9 FT  B1031.2', 'KSC LC-39A', 'SES-11 / EchoStar 105', 5200, 'GTO', 'SES EchoStar', 'Success', 'Success (drone ship)'),\n (datetime.date(2017, 10, 30), datetime.time(19, 34), 'F9 B4 B1042.1', 'KSC LC-39A', 'Koreasat 5A', 3500, 'GTO', 'KT Corporation', 'Success', 'Success (drone ship)'),\n (datetime.date(2018, 5, 11), datetime.time(20, 14), 'F9 B5  B1046.1', 'KSC LC-39A', 'Bangabandhu-1', 3600, 'GTO', 'Thales-Alenia/BTRC', 'Success', 'Success (drone ship)'),\n (datetime.date(2018, 11, 15), datetime.time(20, 46), 'F9 B5 B1047.2', 'KSC LC-39A', 'Es hail 2', 5300, 'GTO', 'Es hailSat', 'Success', 'Success'),\n (datetime.date(2019, 3, 2), datetime.time(7, 49), 'F9 B5B1051.1', 'KSC LC-39A', 'Crew Dragon Demo-1, SpaceX CRS-17 ', 12055, 'LEO (ISS)', 'NASA (CCD)', 'Success', 'Success'),\n (datetime.date(2020, 1, 19), datetime.time(15, 30), 'F9 B5 B1046.4', 'KSC LC-39A', 'Crew Dragon in-flight abort test, Starlink 3 v1.0 ', 12050, 'Sub-orbital', 'NASA (CTS)', 'Success', 'No attempt'),\n (datetime.date(2020, 3, 18), datetime.time(12, 16), 'F9 B5 B1048.5', 'KSC LC-39A', 'Starlink 5 v1.0, Starlink 6 v1.0 ', 15600, 'LEO', 'SpaceX', 'Success', 'Failure'),\n (datetime.date(2020, 4, 22), datetime.time(19, 30), 'F9 B5 B1051.4', 'KSC LC-39A', 'Starlink 6 v1.0, Crew Dragon Demo-2 ', 15600, 'LEO', 'SpaceX', 'Success', 'Success'),\n (datetime.date(2020, 5, 30), datetime.time(19, 22), 'F9 B5B1058.1', 'KSC LC-39A', 'Crew Dragon Demo-2, Starlink 7 v1.0 ', 12530, 'LEO (ISS)', 'NASA (CCDev)', 'Success', 'Success'),\n (datetime.date(2020, 8, 7), datetime.time(5, 12), 'F9 B5 B1051.5', 'KSC LC-39A', 'Starlink 9 v1.0, SXRS-1, Starlink 10 v1.0 ', 14932, 'LEO', 'SpaceX, Spaceflight Industries (BlackSky), Planet Labs', 'Success', 'Success'),\n (datetime.date(2020, 9, 3), datetime.time(12, 46, 14), 'F9 B5 B1060.2', 'KSC LC-39A', 'Starlink 11 v1.0, Starlink 12 v1.0 ', 15600, 'LEO', 'SpaceX', 'Success', 'Success'),\n (datetime.date(2020, 10, 6), datetime.time(11, 29, 34), 'F9 B5 B1058.3', 'KSC LC-39A', 'Starlink 12 v1.0, Starlink 13 v1.0 ', 15600, 'LEO', 'SpaceX', 'Success', 'Success'),\n (datetime.date(2020, 10, 18), datetime.time(12, 25, 57), 'F9 B5 B1051.6', 'KSC LC-39A', 'Starlink 13 v1.0, Starlink 14 v1.0 ', 15600, 'LEO', 'SpaceX', 'Success', 'Success'),\n (datetime.date(2020, 11, 16), datetime.time(0, 27), 'F9 B5B1061.1', 'KSC LC-39A', 'Crew-1, Sentinel-6 Michael Freilich ', 12500, 'LEO (ISS)', 'NASA (CCP)', 'Success', 'Success'),\n (datetime.date(2020, 12, 6), datetime.time(16, 17, 8), 'F9 B5 B1058.4', 'KSC LC-39A', 'SpaceX CRS-21', 2972, 'LEO (ISS)', 'NASA (CRS)', 'Success', 'Success')]"
                    },
                    "execution_count": 23,
                    "metadata": {},
                    "output_type": "execute_result"
                }
            ],
            "source": "%sql SELECT * FROM SPACEXTBL where launch_site like 'KSC%'"
        },
        {
            "cell_type": "markdown",
            "metadata": {},
            "source": "### Task 3\n\n##### Display the total payload mass carried by boosters launched by NASA (CRS)\n"
        },
        {
            "cell_type": "code",
            "execution_count": 26,
            "metadata": {},
            "outputs": [
                {
                    "name": "stdout",
                    "output_type": "stream",
                    "text": " * ibm_db_sa://mbz73986:***@54a2f15b-5c0f-46df-8954-7e38e612c2bd.c1ogj3sd0tgtu0lqde00.databases.appdomain.cloud:32733/BLUDB\nDone.\n"
                },
                {
                    "data": {
                        "text/html": "<table>\n    <tr>\n        <th>total_payload_mass</th>\n    </tr>\n    <tr>\n        <td>45596</td>\n    </tr>\n</table>",
                        "text/plain": "[(45596,)]"
                    },
                    "execution_count": 26,
                    "metadata": {},
                    "output_type": "execute_result"
                }
            ],
            "source": "%sql SELECT sum(payload_mass__kg_) as total_payload_mass FROM SPACEXTBL where customer = 'NASA (CRS)'"
        },
        {
            "cell_type": "markdown",
            "metadata": {},
            "source": "### Task 4\n\n##### Display average payload mass carried by booster version F9 v1.1\n"
        },
        {
            "cell_type": "code",
            "execution_count": 29,
            "metadata": {},
            "outputs": [
                {
                    "name": "stdout",
                    "output_type": "stream",
                    "text": " * ibm_db_sa://mbz73986:***@54a2f15b-5c0f-46df-8954-7e38e612c2bd.c1ogj3sd0tgtu0lqde00.databases.appdomain.cloud:32733/BLUDB\nDone.\n"
                },
                {
                    "data": {
                        "text/html": "<table>\n    <tr>\n        <th>average_payload_mass</th>\n    </tr>\n    <tr>\n        <td>2928</td>\n    </tr>\n</table>",
                        "text/plain": "[(2928,)]"
                    },
                    "execution_count": 29,
                    "metadata": {},
                    "output_type": "execute_result"
                }
            ],
            "source": "%sql SELECT avg(payload_mass__kg_) as average_payload_mass FROM SPACEXTBL where booster_version = 'F9 v1.1'"
        },
        {
            "cell_type": "markdown",
            "metadata": {},
            "source": "### Task 5\n\n##### List the date where the succesful landing outcome in drone ship was acheived.\n\n*Hint:Use min function*\n"
        },
        {
            "cell_type": "code",
            "execution_count": 33,
            "metadata": {},
            "outputs": [
                {
                    "name": "stdout",
                    "output_type": "stream",
                    "text": " * ibm_db_sa://mbz73986:***@54a2f15b-5c0f-46df-8954-7e38e612c2bd.c1ogj3sd0tgtu0lqde00.databases.appdomain.cloud:32733/BLUDB\nDone.\n"
                },
                {
                    "data": {
                        "text/html": "<table>\n    <tr>\n        <th>DATE</th>\n    </tr>\n    <tr>\n        <td>2016-04-08</td>\n    </tr>\n</table>",
                        "text/plain": "[(datetime.date(2016, 4, 8),)]"
                    },
                    "execution_count": 33,
                    "metadata": {},
                    "output_type": "execute_result"
                }
            ],
            "source": "%sql SELECT min(DATE) as date FROM SPACEXTBL where landing__outcome = 'Success (drone ship)'"
        },
        {
            "cell_type": "markdown",
            "metadata": {},
            "source": "### Task 6\n\n##### List the names of the boosters which have success in ground pad  and have payload mass greater than 4000 but less than 6000\n"
        },
        {
            "cell_type": "code",
            "execution_count": 35,
            "metadata": {},
            "outputs": [
                {
                    "name": "stdout",
                    "output_type": "stream",
                    "text": " * ibm_db_sa://mbz73986:***@54a2f15b-5c0f-46df-8954-7e38e612c2bd.c1ogj3sd0tgtu0lqde00.databases.appdomain.cloud:32733/BLUDB\nDone.\n"
                },
                {
                    "data": {
                        "text/html": "<table>\n    <tr>\n        <th>booster_version</th>\n    </tr>\n    <tr>\n        <td>F9 B4 B1040.1</td>\n    </tr>\n    <tr>\n        <td>F9 B4 B1043.1</td>\n    </tr>\n    <tr>\n        <td>F9 FT B1032.1</td>\n    </tr>\n</table>",
                        "text/plain": "[('F9 B4 B1040.1',), ('F9 B4 B1043.1',), ('F9 FT B1032.1',)]"
                    },
                    "execution_count": 35,
                    "metadata": {},
                    "output_type": "execute_result"
                }
            ],
            "source": "%sql SELECT distinct booster_version  FROM SPACEXTBL where landing__outcome = 'Success (ground pad)' and payload_mass__kg_ between 4000 and 6000"
        },
        {
            "cell_type": "markdown",
            "metadata": {},
            "source": "### Task 7\n\n##### List the total number of successful and failure mission outcomes\n"
        },
        {
            "cell_type": "code",
            "execution_count": 41,
            "metadata": {},
            "outputs": [
                {
                    "name": "stdout",
                    "output_type": "stream",
                    "text": " * ibm_db_sa://mbz73986:***@54a2f15b-5c0f-46df-8954-7e38e612c2bd.c1ogj3sd0tgtu0lqde00.databases.appdomain.cloud:32733/BLUDB\nDone.\n"
                },
                {
                    "data": {
                        "text/html": "<table>\n    <tr>\n        <th>mission_outcome</th>\n        <th>2</th>\n    </tr>\n    <tr>\n        <td>Failure (in flight)</td>\n        <td>1</td>\n    </tr>\n    <tr>\n        <td>Success</td>\n        <td>99</td>\n    </tr>\n    <tr>\n        <td>Success (payload status unclear)</td>\n        <td>1</td>\n    </tr>\n</table>",
                        "text/plain": "[('Failure (in flight)', 1),\n ('Success', 99),\n ('Success (payload status unclear)', 1)]"
                    },
                    "execution_count": 41,
                    "metadata": {},
                    "output_type": "execute_result"
                }
            ],
            "source": "%sql SELECT mission_outcome, count(*)  FROM SPACEXTBL group by mission_outcome"
        },
        {
            "cell_type": "markdown",
            "metadata": {},
            "source": "%sql SELECT mission_outcome, count(*)  FROM SPACEXTBL group by mission_outcome"
        },
        {
            "cell_type": "markdown",
            "metadata": {},
            "source": "### Task 8\n\n##### List the   names of the booster_versions which have carried the maximum payload mass. Use a subquery\n"
        },
        {
            "cell_type": "code",
            "execution_count": 40,
            "metadata": {},
            "outputs": [
                {
                    "name": "stdout",
                    "output_type": "stream",
                    "text": " * ibm_db_sa://mbz73986:***@54a2f15b-5c0f-46df-8954-7e38e612c2bd.c1ogj3sd0tgtu0lqde00.databases.appdomain.cloud:32733/BLUDB\nDone.\n"
                },
                {
                    "data": {
                        "text/html": "<table>\n    <tr>\n        <th>booster_version</th>\n    </tr>\n    <tr>\n        <td>F9 B5 B1048.4</td>\n    </tr>\n    <tr>\n        <td>F9 B5 B1049.4</td>\n    </tr>\n    <tr>\n        <td>F9 B5 B1051.3</td>\n    </tr>\n    <tr>\n        <td>F9 B5 B1056.4</td>\n    </tr>\n    <tr>\n        <td>F9 B5 B1048.5</td>\n    </tr>\n    <tr>\n        <td>F9 B5 B1051.4</td>\n    </tr>\n    <tr>\n        <td>F9 B5 B1049.5</td>\n    </tr>\n    <tr>\n        <td>F9 B5 B1060.2</td>\n    </tr>\n    <tr>\n        <td>F9 B5 B1058.3</td>\n    </tr>\n    <tr>\n        <td>F9 B5 B1051.6</td>\n    </tr>\n    <tr>\n        <td>F9 B5 B1060.3</td>\n    </tr>\n    <tr>\n        <td>F9 B5 B1049.7</td>\n    </tr>\n</table>",
                        "text/plain": "[('F9 B5 B1048.4',),\n ('F9 B5 B1049.4',),\n ('F9 B5 B1051.3',),\n ('F9 B5 B1056.4',),\n ('F9 B5 B1048.5',),\n ('F9 B5 B1051.4',),\n ('F9 B5 B1049.5',),\n ('F9 B5 B1060.2',),\n ('F9 B5 B1058.3',),\n ('F9 B5 B1051.6',),\n ('F9 B5 B1060.3',),\n ('F9 B5 B1049.7',)]"
                    },
                    "execution_count": 40,
                    "metadata": {},
                    "output_type": "execute_result"
                }
            ],
            "source": "%sql SELECT booster_version FROM SPACEXTBL where payload_mass__kg_ = (SELECT max(payload_mass__kg_) FROM SPACEXTBL)\n"
        },
        {
            "cell_type": "markdown",
            "metadata": {},
            "source": "### Task 9\n\n##### List the records which will display the month names, succesful landing_outcomes in ground pad ,booster versions, launch_site for the months in year 2017\n"
        },
        {
            "cell_type": "code",
            "execution_count": 48,
            "metadata": {},
            "outputs": [
                {
                    "name": "stdout",
                    "output_type": "stream",
                    "text": " * ibm_db_sa://mbz73986:***@54a2f15b-5c0f-46df-8954-7e38e612c2bd.c1ogj3sd0tgtu0lqde00.databases.appdomain.cloud:32733/BLUDB\nDone.\n"
                },
                {
                    "data": {
                        "text/html": "<table>\n    <tr>\n        <th>MONTH</th>\n        <th>landing__outcome</th>\n        <th>booster_version</th>\n        <th>launch_site</th>\n    </tr>\n    <tr>\n        <td>02</td>\n        <td>Success (ground pad)</td>\n        <td>F9 FT B1031.1</td>\n        <td>KSC LC-39A</td>\n    </tr>\n    <tr>\n        <td>05</td>\n        <td>Success (ground pad)</td>\n        <td>F9 FT B1032.1</td>\n        <td>KSC LC-39A</td>\n    </tr>\n    <tr>\n        <td>06</td>\n        <td>Success (ground pad)</td>\n        <td>F9 FT B1035.1</td>\n        <td>KSC LC-39A</td>\n    </tr>\n    <tr>\n        <td>08</td>\n        <td>Success (ground pad)</td>\n        <td>F9 B4 B1039.1</td>\n        <td>KSC LC-39A</td>\n    </tr>\n    <tr>\n        <td>09</td>\n        <td>Success (ground pad)</td>\n        <td>F9 B4 B1040.1</td>\n        <td>KSC LC-39A</td>\n    </tr>\n    <tr>\n        <td>12</td>\n        <td>Success (ground pad)</td>\n        <td>F9 FT  B1035.2</td>\n        <td>CCAFS SLC-40</td>\n    </tr>\n</table>",
                        "text/plain": "[('02', 'Success (ground pad)', 'F9 FT B1031.1', 'KSC LC-39A'),\n ('05', 'Success (ground pad)', 'F9 FT B1032.1', 'KSC LC-39A'),\n ('06', 'Success (ground pad)', 'F9 FT B1035.1', 'KSC LC-39A'),\n ('08', 'Success (ground pad)', 'F9 B4 B1039.1', 'KSC LC-39A'),\n ('09', 'Success (ground pad)', 'F9 B4 B1040.1', 'KSC LC-39A'),\n ('12', 'Success (ground pad)', 'F9 FT  B1035.2', 'CCAFS SLC-40')]"
                    },
                    "execution_count": 48,
                    "metadata": {},
                    "output_type": "execute_result"
                }
            ],
            "source": "%sql SELECT substr(DATE, 6,2) as month, landing__outcome, booster_version, launch_site FROM SPACEXTBL where landing__outcome = 'Success (ground pad)' and substr(DATE, 1,4) = '2017'"
        },
        {
            "cell_type": "markdown",
            "metadata": {},
            "source": "### Task 10\n\n##### Rank the  count of  successful landing_outcomes between the date 2010-06-04 and 2017-03-20 in descending order.\n"
        },
        {
            "cell_type": "code",
            "execution_count": 44,
            "metadata": {},
            "outputs": [
                {
                    "name": "stdout",
                    "output_type": "stream",
                    "text": " * ibm_db_sa://mbz73986:***@54a2f15b-5c0f-46df-8954-7e38e612c2bd.c1ogj3sd0tgtu0lqde00.databases.appdomain.cloud:32733/BLUDB\nDone.\n"
                },
                {
                    "data": {
                        "text/html": "<table>\n    <tr>\n        <th>DATE</th>\n        <th>total</th>\n    </tr>\n    <tr>\n        <td>2010-06-04</td>\n        <td>1</td>\n    </tr>\n    <tr>\n        <td>2010-12-08</td>\n        <td>1</td>\n    </tr>\n    <tr>\n        <td>2012-05-22</td>\n        <td>1</td>\n    </tr>\n    <tr>\n        <td>2012-10-08</td>\n        <td>1</td>\n    </tr>\n    <tr>\n        <td>2013-03-01</td>\n        <td>1</td>\n    </tr>\n    <tr>\n        <td>2013-09-29</td>\n        <td>1</td>\n    </tr>\n    <tr>\n        <td>2013-12-03</td>\n        <td>1</td>\n    </tr>\n    <tr>\n        <td>2014-01-06</td>\n        <td>1</td>\n    </tr>\n    <tr>\n        <td>2014-04-18</td>\n        <td>1</td>\n    </tr>\n    <tr>\n        <td>2014-07-14</td>\n        <td>1</td>\n    </tr>\n    <tr>\n        <td>2014-08-05</td>\n        <td>1</td>\n    </tr>\n    <tr>\n        <td>2014-09-07</td>\n        <td>1</td>\n    </tr>\n    <tr>\n        <td>2014-09-21</td>\n        <td>1</td>\n    </tr>\n    <tr>\n        <td>2015-01-10</td>\n        <td>1</td>\n    </tr>\n    <tr>\n        <td>2015-02-11</td>\n        <td>1</td>\n    </tr>\n    <tr>\n        <td>2015-03-02</td>\n        <td>1</td>\n    </tr>\n    <tr>\n        <td>2015-04-14</td>\n        <td>1</td>\n    </tr>\n    <tr>\n        <td>2015-04-27</td>\n        <td>1</td>\n    </tr>\n    <tr>\n        <td>2015-12-22</td>\n        <td>1</td>\n    </tr>\n    <tr>\n        <td>2016-01-17</td>\n        <td>1</td>\n    </tr>\n    <tr>\n        <td>2016-03-04</td>\n        <td>1</td>\n    </tr>\n    <tr>\n        <td>2016-04-08</td>\n        <td>1</td>\n    </tr>\n    <tr>\n        <td>2016-05-06</td>\n        <td>1</td>\n    </tr>\n    <tr>\n        <td>2016-05-27</td>\n        <td>1</td>\n    </tr>\n    <tr>\n        <td>2016-06-15</td>\n        <td>1</td>\n    </tr>\n    <tr>\n        <td>2016-07-18</td>\n        <td>1</td>\n    </tr>\n    <tr>\n        <td>2016-08-14</td>\n        <td>1</td>\n    </tr>\n    <tr>\n        <td>2017-01-14</td>\n        <td>1</td>\n    </tr>\n    <tr>\n        <td>2017-02-19</td>\n        <td>1</td>\n    </tr>\n    <tr>\n        <td>2017-03-16</td>\n        <td>1</td>\n    </tr>\n</table>",
                        "text/plain": "[(datetime.date(2010, 6, 4), 1),\n (datetime.date(2010, 12, 8), 1),\n (datetime.date(2012, 5, 22), 1),\n (datetime.date(2012, 10, 8), 1),\n (datetime.date(2013, 3, 1), 1),\n (datetime.date(2013, 9, 29), 1),\n (datetime.date(2013, 12, 3), 1),\n (datetime.date(2014, 1, 6), 1),\n (datetime.date(2014, 4, 18), 1),\n (datetime.date(2014, 7, 14), 1),\n (datetime.date(2014, 8, 5), 1),\n (datetime.date(2014, 9, 7), 1),\n (datetime.date(2014, 9, 21), 1),\n (datetime.date(2015, 1, 10), 1),\n (datetime.date(2015, 2, 11), 1),\n (datetime.date(2015, 3, 2), 1),\n (datetime.date(2015, 4, 14), 1),\n (datetime.date(2015, 4, 27), 1),\n (datetime.date(2015, 12, 22), 1),\n (datetime.date(2016, 1, 17), 1),\n (datetime.date(2016, 3, 4), 1),\n (datetime.date(2016, 4, 8), 1),\n (datetime.date(2016, 5, 6), 1),\n (datetime.date(2016, 5, 27), 1),\n (datetime.date(2016, 6, 15), 1),\n (datetime.date(2016, 7, 18), 1),\n (datetime.date(2016, 8, 14), 1),\n (datetime.date(2017, 1, 14), 1),\n (datetime.date(2017, 2, 19), 1),\n (datetime.date(2017, 3, 16), 1)]"
                    },
                    "execution_count": 44,
                    "metadata": {},
                    "output_type": "execute_result"
                }
            ],
            "source": "%sql SELECT DATE, count(*) as total FROM SPACEXTBL where mission_outcome = 'Success'and DATE between '2010-06-04' and '2017-03-20' group by DATE \n"
        },
        {
            "cell_type": "markdown",
            "metadata": {},
            "source": "### Reference Links\n\n*   <a href =\"https://cf-courses-data.s3.us.cloud-object-storage.appdomain.cloud/IBMDeveloperSkillsNetwork-DB0201EN-SkillsNetwork/labs/Module%203/LAB-String_Patterns_Sorting_Grouping.md.html?utm_medium=Exinfluencer&utm_source=Exinfluencer&utm_content=000026UJ&utm_term=10006555&utm_id=NA-SkillsNetwork-Channel-SkillsNetworkCoursesIBMDS0321ENSkillsNetwork26802033-2021-01-01\">Hands-on Lab : String Patterns, Sorting and Grouping</a>\n\n*   <a  href=\"https://cf-courses-data.s3.us.cloud-object-storage.appdomain.cloud/IBMDeveloperSkillsNetwork-DB0201EN-SkillsNetwork/labs/Labs_Coursera_V5/labs/Lab%20-%20Built-in%20functions%20/Hands-on_Lab__Built-in_Functions.md.html?utm_medium=Exinfluencer&utm_source=Exinfluencer&utm_content=000026UJ&utm_term=10006555&utm_id=NA-SkillsNetwork-Channel-SkillsNetworkCoursesIBMDS0321ENSkillsNetwork26802033-2021-01-01\">Hands-on Lab: Built-in functions</a>\n\n*   <a  href=\"https://cf-courses-data.s3.us.cloud-object-storage.appdomain.cloud/IBMDeveloperSkillsNetwork-DB0201EN-SkillsNetwork/labs/Labs_Coursera_V5/labs/Lab%20-%20Sub-queries%20and%20Nested%20SELECTs%20/instructional-labs.md.html?utm_medium=Exinfluencer&utm_source=Exinfluencer&utm_content=000026UJ&utm_term=10006555&utm_id=NA-SkillsNetwork-Channel-SkillsNetworkCoursesIBMDS0321ENSkillsNetwork26802033-2021-01-01\">Hands-on Lab : Sub-queries and Nested SELECT Statements</a>\n\n*   <a href=\"https://cf-courses-data.s3.us.cloud-object-storage.appdomain.cloud/IBMDeveloperSkillsNetwork-DB0201EN-SkillsNetwork/labs/Module%205/DB0201EN-Week3-1-3-SQLmagic.ipynb?utm_medium=Exinfluencer&utm_source=Exinfluencer&utm_content=000026UJ&utm_term=10006555&utm_id=NA-SkillsNetwork-Channel-SkillsNetworkCoursesIBMDS0321ENSkillsNetwork26802033-2021-01-01\">Hands-on Tutorial: Accessing Databases with SQL magic</a>\n\n*   <a href= \"https://cf-courses-data.s3.us.cloud-object-storage.appdomain.cloud/IBMDeveloperSkillsNetwork-DB0201EN-SkillsNetwork/labs/Module%205/DB0201EN-Week3-1-4-Analyzing.ipynb?utm_medium=Exinfluencer&utm_source=Exinfluencer&utm_content=000026UJ&utm_term=10006555&utm_id=NA-SkillsNetwork-Channel-SkillsNetworkCoursesIBMDS0321ENSkillsNetwork26802033-2021-01-01\">Hands-on Lab: Analyzing a real World Data Set</a>\n"
        },
        {
            "cell_type": "markdown",
            "metadata": {},
            "source": "## Author(s)\n\n<h4> Lakshmi Holla </h4>\n"
        },
        {
            "cell_type": "markdown",
            "metadata": {},
            "source": "## Other Contributors\n\n<h4> Rav Ahuja </h4>\n"
        },
        {
            "cell_type": "markdown",
            "metadata": {},
            "source": "## Change log\n\n| Date       | Version | Changed by    | Change Description        |\n| ---------- | ------- | ------------- | ------------------------- |\n| 2021-08-24 | 0.3     | Lakshmi Holla | Added library update      |\n| 2021-07-09 | 0.2     | Lakshmi Holla | Changes made in magic sql |\n| 2021-05-20 | 0.1     | Lakshmi Holla | Created Initial Version   |\n"
        },
        {
            "cell_type": "markdown",
            "metadata": {},
            "source": "## <h3 align=\"center\"> \u00a9 IBM Corporation 2021. All rights reserved. <h3/>\n"
        }
    ],
    "metadata": {
        "kernelspec": {
            "display_name": "Python 3.7",
            "language": "python",
            "name": "python3"
        },
        "language_info": {
            "codemirror_mode": {
                "name": "ipython",
                "version": 3
            },
            "file_extension": ".py",
            "mimetype": "text/x-python",
            "name": "python",
            "nbconvert_exporter": "python",
            "pygments_lexer": "ipython3",
            "version": "3.7.11"
        }
    },
    "nbformat": 4,
    "nbformat_minor": 4
}